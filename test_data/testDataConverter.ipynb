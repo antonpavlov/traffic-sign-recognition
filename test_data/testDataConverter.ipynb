{
 "cells": [
  {
   "cell_type": "markdown",
   "metadata": {},
   "source": [
    "# Test Data #"
   ]
  },
  {
   "cell_type": "markdown",
   "metadata": {},
   "source": [
    "The purpose of this notebook is to prepare images, downloaded from Internet, to be classified by developed neural network. At the end of processing two pickle files will generated."
   ]
  },
  {
   "cell_type": "code",
   "execution_count": 1,
   "metadata": {
    "collapsed": true
   },
   "outputs": [],
   "source": [
    "# Import libraries\n",
    "import tensorflow as tf\n",
    "from PIL import Image\n",
    "import numpy as np\n",
    "import pickle"
   ]
  },
  {
   "cell_type": "code",
   "execution_count": 2,
   "metadata": {},
   "outputs": [],
   "source": [
    "# Define and load image data\n",
    "filelist = ['./sign13.png', './sign23.png', './sign28.png', './sign35.png', './sign38.png'] # Hardcoded to keep a sequence\n",
    "X_images = np.array([np.array(Image.open(fname).convert('RGB').resize((32,32),Image.BICUBIC)) for fname in filelist])"
   ]
  },
  {
   "cell_type": "code",
   "execution_count": 3,
   "metadata": {
    "collapsed": true
   },
   "outputs": [],
   "source": [
    "# Normalize images\n",
    "def normalize_img(image_data):\n",
    "    \"\"\"\n",
    "    Normalize the image data with Min-Max scaling to a range of [0.1, 0.9],\n",
    "        :param image_data: The image data to be normalized,\n",
    "        :return: Normalized image data.\n",
    "    \"\"\"\n",
    "    a = 0.1\n",
    "    b = 0.9\n",
    "    scale_min = 0\n",
    "    scale_max = 255\n",
    "    return a + (((image_data - scale_min)*(b - a))/(scale_max - scale_min))\n",
    "\n",
    "X_images_norm = normalize_img(X_images)"
   ]
  },
  {
   "cell_type": "code",
   "execution_count": 4,
   "metadata": {
    "collapsed": true
   },
   "outputs": [],
   "source": [
    "# Transform images to grayscale\n",
    "tf.reset_default_graph()\n",
    "X_images2gray  = tf.image.rgb_to_grayscale(X_images_norm)\n",
    "\n",
    "with tf.Session() as sess:\n",
    "    X_images_gray = sess.run(X_images2gray)"
   ]
  },
  {
   "cell_type": "code",
   "execution_count": 5,
   "metadata": {
    "collapsed": true
   },
   "outputs": [],
   "source": [
    "# Define sign classes\n",
    "y_images = ([13, 23, 28, 35, 38])"
   ]
  },
  {
   "cell_type": "code",
   "execution_count": 6,
   "metadata": {
    "collapsed": true
   },
   "outputs": [],
   "source": [
    "# Make sure that the number of features equals the number of labels\n",
    "assert(len(X_images_gray) == len(y_images))"
   ]
  },
  {
   "cell_type": "code",
   "execution_count": 7,
   "metadata": {
    "collapsed": true
   },
   "outputs": [],
   "source": [
    "# Save results\n",
    "with open('./test_img_features.pickle', 'wb') as output:\n",
    "    pickle.dump(X_images_gray, output)\n",
    "\n",
    "with open('./test_img_labels.pickle', 'wb') as output:\n",
    "    pickle.dump(y_images, output)"
   ]
  }
 ],
 "metadata": {
  "kernelspec": {
   "display_name": "Python 3",
   "language": "python",
   "name": "python3"
  },
  "language_info": {
   "codemirror_mode": {
    "name": "ipython",
    "version": 3
   },
   "file_extension": ".py",
   "mimetype": "text/x-python",
   "name": "python",
   "nbconvert_exporter": "python",
   "pygments_lexer": "ipython3",
   "version": "3.5.3"
  }
 },
 "nbformat": 4,
 "nbformat_minor": 2
}
